{
 "cells": [
  {
   "cell_type": "code",
   "execution_count": 37,
   "id": "23b9d4bc",
   "metadata": {},
   "outputs": [],
   "source": [
    "import pandas as pd\n",
    "import pickle\n",
    "import csv\n",
    "import matplotlib.pyplot as plt"
   ]
  },
  {
   "cell_type": "code",
   "execution_count": null,
   "id": "bec0206c-309d-4d9c-815a-695c8d3c742d",
   "metadata": {},
   "outputs": [],
   "source": [
    "with open('../ellemijn_data/all_primary_data.pkl', 'rb') as file:\n",
    "    ellemijn_all = pickle.load(file)\n",
    "\n",
    "with open('../sharona_data/sharona_data_all_labels.pkl', 'rb') as file:\n",
    "    sharona_all = pickle.load(file)\n",
    "\n",
    "with open('./jenia_data/dev_jenia_all-labels.pkl', 'rb') as file:\n",
    "    jenia_dev = pickle.load(file)"
   ]
  },
  {
   "cell_type": "code",
   "execution_count": 41,
   "id": "380b297a-52d6-4a66-8eca-bf8dd4dbfd18",
   "metadata": {},
   "outputs": [],
   "source": [
    "ellemijn_all['source_dataset'] = 'ellemijn'\n",
    "\n",
    "sharona_all['source_dataset'] = 'sharona'\n",
    "\n",
    "jenia_test['source_dataset'] = 'jenia_test'"
   ]
  },
  {
   "cell_type": "markdown",
   "id": "327ee268-c071-4703-89e4-e5423eac6c66",
   "metadata": {},
   "source": [
    "Inspect files if needed"
   ]
  },
  {
   "cell_type": "code",
   "execution_count": null,
   "id": "3fa965e4-9d17-449e-a9da-df2a586c687a",
   "metadata": {},
   "outputs": [],
   "source": [
    "# ellemijn_all.columns\n",
    "# sharona_all.columns\n",
    "# jenia_test.columns"
   ]
  },
  {
   "cell_type": "markdown",
   "id": "2bec83ac-10a0-46c4-80d6-38ac090e0b4c",
   "metadata": {},
   "source": [
    "Make necessary column name changes in order to make sure same type of information is under same column name"
   ]
  },
  {
   "cell_type": "code",
   "execution_count": 54,
   "id": "1388a0c9-917d-4d02-aad1-5a240f47f5b2",
   "metadata": {},
   "outputs": [],
   "source": [
    "ellemijn_all = ellemijn_all[['pad_sen_id', 'year', 'NotitieID', 'batch', 'annotator', 'source_dataset','background_sent', 'target_sent', 'text_raw', 'text', 'labels_9']]\n",
    "\n",
    "ellemijn_all = ellemijn_all.rename(columns={'labels' : 'labels_9'})\n",
    "\n",
    "#sharona_all = sharona_all.drop(['institution', 'MDN', 'len_text', 'labels_binary', 'labels_10'], axis=1)\n",
    "\n",
    "#sharona_all = sharona_all.rename(columns={'labels_9' : 'labels'})\n",
    "\n",
    "sharona_all = sharona_all[['pad_sen_id', 'year', 'NotitieID', 'batch', 'annotator', 'source_dataset', 'background_sent', 'target_sent', 'text_raw', 'text', 'labels_9']]\n",
    "\n",
    "#jenia_test = jenia_test.drop(['index','institution', 'MDN', 'labels_binary', 'labels_10', 'labels_9','original_labels'], axis=1)\n",
    "\n",
    "#jenia_test = jenia_test.rename(columns={'labels_9' : 'labels'})\n",
    "\n",
    "jenia_test = jenia_test[['pad_sen_id', 'year', 'NotitieID', 'batch', 'annotator', 'source_dataset', 'background_sent', 'target_sent', 'text_raw', 'text', 'labels_9']]"
   ]
  },
  {
   "cell_type": "code",
   "execution_count": 56,
   "id": "28f78117",
   "metadata": {},
   "outputs": [],
   "source": [
    "# Merge 3 datasets\n",
    "combined_test = pd.concat([ellemijn_all, sharona_all, jenia_test], ignore_index=True)"
   ]
  },
  {
   "cell_type": "code",
   "execution_count": null,
   "id": "3965998a",
   "metadata": {},
   "outputs": [],
   "source": [
    "combined_test"
   ]
  },
  {
   "cell_type": "code",
   "execution_count": 58,
   "id": "6add372c",
   "metadata": {},
   "outputs": [],
   "source": [
    "pkl_file_path = \"./combined_test.pkl\"\n",
    "with open(pkl_file_path, 'wb') as pkl_file:\n",
    "    pickle.dump(combined_test, pkl_file)"
   ]
  },
  {
   "cell_type": "code",
   "execution_count": null,
   "id": "65af6698",
   "metadata": {},
   "outputs": [],
   "source": [
    "categories=['ADM', 'ATT', 'BER', 'ENR', 'ETN', 'FAC', 'INS', 'MBW', 'STM']\n",
    "\n",
    "category_counts = {category:0 for category in categories}\n",
    "\n",
    "for index, row in jenia_test.iterrows():\n",
    "    binary_vector = row['labels_9']\n",
    "    for i, bit in enumerate(binary_vector):\n",
    "        if bit == 1:\n",
    "            category_counts[categories[i]] += 1\n",
    "\n",
    "category_counts_series = pd.Series(category_counts)\n",
    "\n",
    "category_percentages = (category_counts_series / category_counts_series.sum()) * 100\n",
    "\n",
    "print(category_percentages)\n",
    "print('----')\n",
    "print(category_counts_series)"
   ]
  }
 ],
 "metadata": {
  "kernelspec": {
   "display_name": "Python 3 (ipykernel)",
   "language": "python",
   "name": "python3"
  },
  "language_info": {
   "codemirror_mode": {
    "name": "ipython",
    "version": 3
   },
   "file_extension": ".py",
   "mimetype": "text/x-python",
   "name": "python",
   "nbconvert_exporter": "python",
   "pygments_lexer": "ipython3",
   "version": "3.11.4"
  }
 },
 "nbformat": 4,
 "nbformat_minor": 5
}
